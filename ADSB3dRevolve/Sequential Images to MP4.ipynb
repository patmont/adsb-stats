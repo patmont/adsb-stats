{
 "cells": [
  {
   "cell_type": "code",
   "execution_count": 1,
   "metadata": {
    "collapsed": false
   },
   "outputs": [
    {
     "data": {
      "text/plain": [
       "35072"
      ]
     },
     "execution_count": 1,
     "metadata": {},
     "output_type": "execute_result"
    }
   ],
   "source": [
    "import matplotlib.pyplot as plt\n",
    "from matplotlib import cm\n",
    "from mpl_toolkits.mplot3d import axes3d\n",
    "import os, sys\n",
    "import numpy as np\n",
    "\n",
    "def make_gif(files,output,delay=5000, repeat=True,**kwargs):\n",
    "    \"\"\"\n",
    "    Uses imageMagick to produce an animated .gif from a list of\n",
    "    picture files.\n",
    "    \"\"\"\n",
    "     \n",
    "    loop = -1 if repeat else 0\n",
    "    os.system('convert -delay %d -loop %d %s %s'\n",
    "              %(delay,loop,\" \".join(files),output))\n",
    "\n",
    "files = []\n",
    "for ii in xrange(0,360,1):\n",
    "    fname = (\"movie%d.png\" % ii)\n",
    "    files.append(fname)\n",
    "\n",
    "loop = -1 if True else 0\n",
    "os.system('convert -delay %d -loop %d %s %s'\n",
    "          %(100,loop,\" \".join(files),'a.gif'))"
   ]
  },
  {
   "cell_type": "code",
   "execution_count": null,
   "metadata": {
    "collapsed": false
   },
   "outputs": [],
   "source": [
    "files"
   ]
  },
  {
   "cell_type": "code",
   "execution_count": 4,
   "metadata": {
    "collapsed": false
   },
   "outputs": [
    {
     "name": "stdout",
     "output_type": "stream",
     "text": [
      "mencoder \"mf://movie0.png,movie1.png,movie2.png,movie3.png,movie4.png,movie5.png,movie6.png,movie7.png,movie8.png,movie9.png,movie10.png,movie11.png,movie12.png,movie13.png,movie14.png,movie15.png,movie16.png,movie17.png,movie18.png,movie19.png,movie20.png,movie21.png,movie22.png,movie23.png,movie24.png,movie25.png,movie26.png,movie27.png,movie28.png,movie29.png,movie30.png,movie31.png,movie32.png,movie33.png,movie34.png,movie35.png,movie36.png,movie37.png,movie38.png,movie39.png,movie40.png,movie41.png,movie42.png,movie43.png,movie44.png,movie45.png,movie46.png,movie47.png,movie48.png,movie49.png,movie50.png,movie51.png,movie52.png,movie53.png,movie54.png,movie55.png,movie56.png,movie57.png,movie58.png,movie59.png,movie60.png,movie61.png,movie62.png,movie63.png,movie64.png,movie65.png,movie66.png,movie67.png,movie68.png,movie69.png,movie70.png,movie71.png,movie72.png,movie73.png,movie74.png,movie75.png,movie76.png,movie77.png,movie78.png,movie79.png,movie80.png,movie81.png,movie82.png,movie83.png,movie84.png,movie85.png,movie86.png,movie87.png,movie88.png,movie89.png,movie90.png,movie91.png,movie92.png,movie93.png,movie94.png,movie95.png,movie96.png,movie97.png,movie98.png,movie99.png,movie100.png,movie101.png,movie102.png,movie103.png,movie104.png,movie105.png,movie106.png,movie107.png,movie108.png,movie109.png,movie110.png,movie111.png,movie112.png,movie113.png,movie114.png,movie115.png,movie116.png,movie117.png,movie118.png,movie119.png,movie120.png,movie121.png,movie122.png,movie123.png,movie124.png,movie125.png,movie126.png,movie127.png,movie128.png,movie129.png,movie130.png,movie131.png,movie132.png,movie133.png,movie134.png,movie135.png,movie136.png,movie137.png,movie138.png,movie139.png,movie140.png,movie141.png,movie142.png,movie143.png,movie144.png,movie145.png,movie146.png,movie147.png,movie148.png,movie149.png,movie150.png,movie151.png,movie152.png,movie153.png,movie154.png,movie155.png,movie156.png,movie157.png,movie158.png,movie159.png,movie160.png,movie161.png,movie162.png,movie163.png,movie164.png,movie165.png,movie166.png,movie167.png,movie168.png,movie169.png,movie170.png,movie171.png,movie172.png,movie173.png,movie174.png,movie175.png,movie176.png,movie177.png,movie178.png,movie179.png,movie180.png,movie181.png,movie182.png,movie183.png,movie184.png,movie185.png,movie186.png,movie187.png,movie188.png,movie189.png,movie190.png,movie191.png,movie192.png,movie193.png,movie194.png,movie195.png,movie196.png,movie197.png,movie198.png,movie199.png,movie200.png,movie201.png,movie202.png,movie203.png,movie204.png,movie205.png,movie206.png,movie207.png,movie208.png,movie209.png,movie210.png,movie211.png,movie212.png,movie213.png,movie214.png,movie215.png,movie216.png,movie217.png,movie218.png,movie219.png,movie220.png,movie221.png,movie222.png,movie223.png,movie224.png,movie225.png,movie226.png,movie227.png,movie228.png,movie229.png,movie230.png,movie231.png,movie232.png,movie233.png,movie234.png,movie235.png,movie236.png,movie237.png,movie238.png,movie239.png,movie240.png,movie241.png,movie242.png,movie243.png,movie244.png,movie245.png,movie246.png,movie247.png,movie248.png,movie249.png,movie250.png,movie251.png,movie252.png,movie253.png,movie254.png,movie255.png,movie256.png,movie257.png,movie258.png,movie259.png,movie260.png,movie261.png,movie262.png,movie263.png,movie264.png,movie265.png,movie266.png,movie267.png,movie268.png,movie269.png,movie270.png,movie271.png,movie272.png,movie273.png,movie274.png,movie275.png,movie276.png,movie277.png,movie278.png,movie279.png,movie280.png,movie281.png,movie282.png,movie283.png,movie284.png,movie285.png,movie286.png,movie287.png,movie288.png,movie289.png,movie290.png,movie291.png,movie292.png,movie293.png,movie294.png,movie295.png,movie296.png,movie297.png,movie298.png,movie299.png,movie300.png,movie301.png,movie302.png,movie303.png,movie304.png,movie305.png,movie306.png,movie307.png,movie308.png,movie309.png,movie310.png,movie311.png,movie312.png,movie313.png,movie314.png,movie315.png,movie316.png,movie317.png,movie318.png,movie319.png,movie320.png,movie321.png,movie322.png,movie323.png,movie324.png,movie325.png,movie326.png,movie327.png,movie328.png,movie329.png,movie330.png,movie331.png,movie332.png,movie333.png,movie334.png,movie335.png,movie336.png,movie337.png,movie338.png,movie339.png,movie340.png,movie341.png,movie342.png,movie343.png,movie344.png,movie345.png,movie346.png,movie347.png,movie348.png,movie349.png,movie350.png,movie351.png,movie352.png,movie353.png,movie354.png,movie355.png,movie356.png,movie357.png,movie358.png,movie359.png\" -mf fps=30 -o animation.mp4 -ovc lavc                         -lavcopts vcodec=msmpeg4v2:vbitrate=1800\n"
     ]
    }
   ],
   "source": [
    "def make_movie(files,output, fps=30,bitrate=1800,**kwargs):\n",
    "    \"\"\"\n",
    "    Uses mencoder, produces a .mp4/.ogv/... movie from a list of\n",
    "    picture files.\n",
    "    \"\"\"\n",
    "     \n",
    "    output_name, output_ext = os.path.splitext(output)\n",
    "    command = { '.mp4' : 'mencoder \"mf://%s\" -mf fps=%d -o %s.mp4 -ovc lavc                         -lavcopts vcodec=msmpeg4v2:vbitrate=%d'\n",
    "                         %(\",\".join(files),fps,output_name,bitrate)}\n",
    "                          \n",
    "    command['.ogv'] = command['.mp4'] + '; ffmpeg -i %s.mp4 -r %d %s'%(output_name,fps,output)\n",
    "     \n",
    "    print(command[output_ext])\n",
    "    output_ext = os.path.splitext(output)[1]\n",
    "    os.system(command[output_ext])\n",
    " \n",
    "make_movie(files, 'animation.mp4')"
   ]
  },
  {
   "cell_type": "code",
   "execution_count": null,
   "metadata": {
    "collapsed": true
   },
   "outputs": [],
   "source": []
  }
 ],
 "metadata": {
  "kernelspec": {
   "display_name": "Python [Root]",
   "language": "python",
   "name": "Python [Root]"
  },
  "language_info": {
   "codemirror_mode": {
    "name": "ipython",
    "version": 2
   },
   "file_extension": ".py",
   "mimetype": "text/x-python",
   "name": "python",
   "nbconvert_exporter": "python",
   "pygments_lexer": "ipython2",
   "version": "2.7.12"
  }
 },
 "nbformat": 4,
 "nbformat_minor": 0
}
