{
 "cells": [
  {
   "cell_type": "code",
   "execution_count": null,
   "metadata": {
    "collapsed": false
   },
   "outputs": [],
   "source": [
    "# Requires Python 2.7 environment\n",
    "\n",
    "# Install requirements\n",
    "!pip install MySQL-python\n",
    "!pip install gmplot"
   ]
  },
  {
   "cell_type": "code",
   "execution_count": null,
   "metadata": {
    "collapsed": true
   },
   "outputs": [],
   "source": [
    "import numpy as np\n",
    "import pandas as pd\n",
    "import MySQLdb\n",
    "import gmplot\n",
    "%matplotlib inline"
   ]
  },
  {
   "cell_type": "code",
   "execution_count": null,
   "metadata": {
    "collapsed": false,
    "scrolled": true
   },
   "outputs": [],
   "source": [
    "# Import Data from MYSQL\n",
    "mysql_cn= MySQLdb.connect(host='127.0.0.1', \n",
    "                port=3306,user='root', passwd='yourpwd', \n",
    "                db='adsb')\n",
    "query = '''SELECT * FROM adsb_positions;'''\n",
    "\n",
    "adsb_positions = pd.read_sql(query,con=mysql_cn, parse_dates='time',index_col='time')\n",
    "\n",
    "print('loaded dataframe from MySQL. records:', len(adsb_positions))\n",
    "mysql_cn.close()"
   ]
  },
  {
   "cell_type": "code",
   "execution_count": null,
   "metadata": {
    "collapsed": false
   },
   "outputs": [],
   "source": [
    "adsb_positions.head()"
   ]
  },
  {
   "cell_type": "code",
   "execution_count": null,
   "metadata": {
    "collapsed": false
   },
   "outputs": [],
   "source": [
    "adsb_positions['altitude'].hist(bins=32)"
   ]
  },
  {
   "cell_type": "code",
   "execution_count": null,
   "metadata": {
    "collapsed": false
   },
   "outputs": [],
   "source": [
    "# Set 'time' column to datetime format, and make df index\n",
    "df['time'] = pd.to_datetime(df['time'])\n",
    "df = df.set_index(pd.DatetimeIndex(df['time']))\n",
    "\n",
    "# Filter Dataframe\n",
    "df = df[df['altitude'] > 0]\n",
    "\n",
    "# Group Dataframe by day\n",
    "grouped = df.groupby(pd.TimeGrouper('D')).transform(np.cumsum).resample('D').ohlc"
   ]
  },
  {
   "cell_type": "code",
   "execution_count": null,
   "metadata": {
    "collapsed": false
   },
   "outputs": [],
   "source": [
    "gmap = gmplot.GoogleMapPlotter(37.00, -122.00, 8)\n",
    "gmap.heatmap(df['latitude'], df['longitude'])\n",
    "gmap.draw(\"plotdensity.html\")"
   ]
  }
 ],
 "metadata": {
  "anaconda-cloud": {},
  "kernelspec": {
   "display_name": "Python [conda env:py27]",
   "language": "python",
   "name": "conda-env-py27-py"
  },
  "language_info": {
   "codemirror_mode": {
    "name": "ipython",
    "version": 2
   },
   "file_extension": ".py",
   "mimetype": "text/x-python",
   "name": "python",
   "nbconvert_exporter": "python",
   "pygments_lexer": "ipython2",
   "version": "2.7.12"
  }
 },
 "nbformat": 4,
 "nbformat_minor": 0
}
